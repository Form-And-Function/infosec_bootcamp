{
 "cells": [
  {
   "cell_type": "code",
   "execution_count": null,
   "metadata": {},
   "outputs": [],
   "source": [
    "import sys\n",
    "import os\n",
    "import json\n",
    "import tempfile\n",
    "import shutil\n",
    "import tarfile\n",
    "import subprocess\n",
    "from urllib import request\n",
    "import ctypes\n",
    "import ctypes.util"
   ]
  },
  {
   "cell_type": "markdown",
   "metadata": {},
   "source": [
    "# First we'll write a very simple function that takes in a "
   ]
  },
  {
   "cell_type": "code",
   "execution_count": null,
   "metadata": {},
   "outputs": [],
   "source": [
    "registry_base = \"https://registry-1.docker.io/v2/library\"\n",
    "auth_base = \"https://auth.docker.io\""
   ]
  },
  {
   "cell_type": "code",
   "execution_count": null,
   "metadata": {},
   "outputs": [],
   "source": [
    "\n",
    "# Load necessary libraries\n",
    "libc = ctypes.CDLL(ctypes.util.find_library('c'), use_errno=True)\n",
    "libcgroup = ctypes.CDLL(ctypes.util.find_library('cgroup'), use_errno=True)\n",
    "\n",
    "# Define constants for namespaces\n",
    "CLONE_NEWNS = 0x00020000\n",
    "CLONE_NEWUTS = 0x04000000\n",
    "CLONE_NEWIPC = 0x08000000\n",
    "CLONE_NEWPID = 0x20000000\n",
    "CLONE_NEWNET = 0x40000000"
   ]
  },
  {
   "cell_type": "code",
   "execution_count": null,
   "metadata": {},
   "outputs": [],
   "source": [
    "def get_auth_token(service: str) -> str:\n",
    "    uri = f\"{auth_base}/token?service=registry.docker.io&scope=repository:library/{service}:pull\"\n",
    "    resp = request.urlopen(request.Request(uri, method=\"GET\"))\n",
    "    return json.loads(resp.read(8096).decode(\"utf-8\"))[\"token\"]"
   ]
  },
  {
   "cell_type": "code",
   "execution_count": null,
   "metadata": {},
   "outputs": [],
   "source": [
    "def get_image_blobs(service: str, tag: str, auth_token: str) -> list[str]:\n",
    "    uri = f\"{registry_base}/{service}/manifests/{tag}\"\n",
    "    req = request.Request(\n",
    "        uri, method=\"GET\", headers={\"Authorization\": f\"Bearer {auth_token}\"}\n",
    "    )\n",
    "    resp = request.urlopen(req)\n",
    "    resp = json.loads(resp.read().decode(\"utf-8\"))\n",
    "    blobs = [layer[\"blobSum\"] for layer in resp[\"fsLayers\"]]\n",
    "    return blobs"
   ]
  },
  {
   "cell_type": "code",
   "execution_count": null,
   "metadata": {},
   "outputs": [],
   "source": [
    "def pull_image_layers(service: str, blobs: list[str], auth_token: str, output_dir: str):\n",
    "    for blob in blobs:\n",
    "        uri = f\"{registry_base}/{service}/blobs/{blob}\"\n",
    "        req = request.Request(\n",
    "            uri, method=\"GET\", headers={\"Authorization\": f\"Bearer {auth_token}\"}\n",
    "        )\n",
    "        with tempfile.TemporaryDirectory() as tmp_dir:\n",
    "            with open(os.path.join(tmp_dir, f\"{blob}.tar\"), \"wb\") as f:\n",
    "                with request.urlopen(req) as resp:\n",
    "                    f.write(resp.read())\n",
    "            for file in os.listdir(tmp_dir):\n",
    "                ff = tarfile.open(os.path.join(tmp_dir, file))\n",
    "                ff.extractall(output_dir)"
   ]
  },
  {
   "cell_type": "code",
   "execution_count": null,
   "metadata": {},
   "outputs": [],
   "source": [
    "def setup_cgroups(container_id: str):\n",
    "    cgroup_path = f\"/sys/fs/cgroup/unified/{container_id}\"\n",
    "    os.makedirs(cgroup_path, exist_ok=True)\n",
    "    \n",
    "    # Set CPU limit (e.g., 50% of one CPU core)\n",
    "    with open(f\"{cgroup_path}/cpu.max\", \"w\") as f:\n",
    "        f.write(\"50000 100000\")\n",
    "    \n",
    "    # Set memory limit (e.g., 512MB)\n",
    "    with open(f\"{cgroup_path}/memory.max\", \"w\") as f:\n",
    "        f.write(\"536870912\")\n",
    "    \n",
    "    # Add current process to the cgroup\n",
    "    with open(f\"{cgroup_path}/cgroup.procs\", \"w\") as f:\n",
    "        f.write(str(os.getpid()))"
   ]
  },
  {
   "cell_type": "code",
   "execution_count": null,
   "metadata": {},
   "outputs": [],
   "source": [
    "def setup_network():\n",
    "    # Create a new network namespace\n",
    "    if libc.unshare(CLONE_NEWNET) != 0:\n",
    "        raise OSError(ctypes.get_errno(), \"Failed to unshare network namespace\")\n",
    "    \n",
    "    # Set up a virtual ethernet pair\n",
    "    subprocess.run([\"ip\", \"link\", \"add\", \"veth0\", \"type\", \"veth\", \"peer\", \"name\", \"veth1\"])\n",
    "    subprocess.run([\"ip\", \"link\", \"set\", \"veth1\", \"up\"])\n",
    "    subprocess.run([\"ip\", \"addr\", \"add\", \"172.17.0.2/16\", \"dev\", \"veth1\"])\n",
    "    \n",
    "    # Set up NAT for outgoing connections\n",
    "    subprocess.run([\"iptables\", \"-t\", \"nat\", \"-A\", \"POSTROUTING\", \"-o\", \"eth0\", \"-j\", \"MASQUERADE\"])\n",
    "    subprocess.run([\"iptables\", \"-A\", \"FORWARD\", \"-i\", \"eth0\", \"-o\", \"veth1\", \"-m\", \"state\", \"--state\", \"RELATED,ESTABLISHED\", \"-j\", \"ACCEPT\"])\n",
    "    subprocess.run([\"iptables\", \"-A\", \"FORWARD\", \"-i\", \"veth1\", \"-o\", \"eth0\", \"-j\", \"ACCEPT\"])\n"
   ]
  },
  {
   "cell_type": "code",
   "execution_count": null,
   "metadata": {},
   "outputs": [],
   "source": [
    "def container_process(command: str, args: list):\n",
    "    # Set up mount namespace\n",
    "    if libc.unshare(CLONE_NEWNS) != 0:\n",
    "        raise OSError(ctypes.get_errno(), \"Failed to unshare mount namespace\")\n",
    "    \n",
    "    # Set up UTS namespace (hostname)\n",
    "    if libc.unshare(CLONE_NEWUTS) != 0:\n",
    "        raise OSError(ctypes.get_errno(), \"Failed to unshare UTS namespace\")\n",
    "    \n",
    "    # Set up IPC namespace\n",
    "    if libc.unshare(CLONE_NEWIPC) != 0:\n",
    "        raise OSError(ctypes.get_errno(), \"Failed to unshare IPC namespace\")\n",
    "    \n",
    "    # Set up PID namespace\n",
    "    if libc.unshare(CLONE_NEWPID) != 0:\n",
    "        raise OSError(ctypes.get_errno(), \"Failed to unshare PID namespace\")\n",
    "    \n",
    "    # Set up network\n",
    "    setup_network()\n",
    "    \n",
    "    # Execute the command\n",
    "    os.execvp(command, [command] + args)"
   ]
  },
  {
   "cell_type": "code",
   "execution_count": null,
   "metadata": {},
   "outputs": [],
   "source": [
    "def main():\n",
    "    image = sys.argv[2]\n",
    "    tag = \"latest\" if \":\" not in image else image.split(\":\")[1]\n",
    "    command = sys.argv[3]\n",
    "    args = sys.argv[4:]\n",
    "    \n",
    "    container_id = f\"container_{os.getpid()}\"\n",
    "    \n",
    "    with tempfile.TemporaryDirectory() as tmp_dir:\n",
    "        # Pull and set up the container filesystem\n",
    "        auth_token = get_auth_token(image)\n",
    "        blobs = get_image_blobs(image, tag, auth_token)\n",
    "        pull_image_layers(image, blobs, auth_token, tmp_dir)\n",
    "        \n",
    "        # Set up cgroups\n",
    "        setup_cgroups(container_id)\n",
    "        \n",
    "        # Fork a new process for the container\n",
    "        pid = os.fork()\n",
    "        if pid == 0:  # Child process\n",
    "            os.chroot(tmp_dir)\n",
    "            os.chdir(\"/\")\n",
    "            container_process(command, args)\n",
    "        else:  # Parent process\n",
    "            _, status = os.waitpid(pid, 0)\n",
    "            sys.exit(os.WEXITSTATUS(status))\n",
    "            \n",
    "main()"
   ]
  }
 ],
 "metadata": {
  "language_info": {
   "name": "python"
  }
 },
 "nbformat": 4,
 "nbformat_minor": 2
}
