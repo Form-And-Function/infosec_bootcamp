{
 "cells": [
  {
   "cell_type": "code",
   "execution_count": 2,
   "metadata": {},
   "outputs": [
    {
     "ename": "ModuleNotFoundError",
     "evalue": "No module named 'ipyext'",
     "output_type": "error",
     "traceback": [
      "\u001b[0;31m---------------------------------------------------------------------------\u001b[0m",
      "\u001b[0;31mModuleNotFoundError\u001b[0m                       Traceback (most recent call last)",
      "Cell \u001b[0;32mIn[2], line 6\u001b[0m\n\u001b[1;32m      3\u001b[0m \u001b[38;5;28;01mimport\u001b[39;00m \u001b[38;5;21;01mtime\u001b[39;00m\n\u001b[1;32m      4\u001b[0m \u001b[38;5;28;01mfrom\u001b[39;00m \u001b[38;5;21;01mdataclasses\u001b[39;00m \u001b[38;5;28;01mimport\u001b[39;00m dataclass\n\u001b[0;32m----> 6\u001b[0m \u001b[43mget_ipython\u001b[49m\u001b[43m(\u001b[49m\u001b[43m)\u001b[49m\u001b[38;5;241;43m.\u001b[39;49m\u001b[43mrun_line_magic\u001b[49m\u001b[43m(\u001b[49m\u001b[38;5;124;43m'\u001b[39;49m\u001b[38;5;124;43mload_ext\u001b[39;49m\u001b[38;5;124;43m'\u001b[39;49m\u001b[43m,\u001b[49m\u001b[43m \u001b[49m\u001b[38;5;124;43m'\u001b[39;49m\u001b[38;5;124;43mipyext\u001b[39;49m\u001b[38;5;124;43m'\u001b[39;49m\u001b[43m)\u001b[49m\n",
      "File \u001b[0;32m~/miniconda3/envs/infosec_bootcamp/lib/python3.12/site-packages/IPython/core/interactiveshell.py:2480\u001b[0m, in \u001b[0;36mInteractiveShell.run_line_magic\u001b[0;34m(self, magic_name, line, _stack_depth)\u001b[0m\n\u001b[1;32m   2478\u001b[0m     kwargs[\u001b[38;5;124m'\u001b[39m\u001b[38;5;124mlocal_ns\u001b[39m\u001b[38;5;124m'\u001b[39m] \u001b[38;5;241m=\u001b[39m \u001b[38;5;28mself\u001b[39m\u001b[38;5;241m.\u001b[39mget_local_scope(stack_depth)\n\u001b[1;32m   2479\u001b[0m \u001b[38;5;28;01mwith\u001b[39;00m \u001b[38;5;28mself\u001b[39m\u001b[38;5;241m.\u001b[39mbuiltin_trap:\n\u001b[0;32m-> 2480\u001b[0m     result \u001b[38;5;241m=\u001b[39m \u001b[43mfn\u001b[49m\u001b[43m(\u001b[49m\u001b[38;5;241;43m*\u001b[39;49m\u001b[43margs\u001b[49m\u001b[43m,\u001b[49m\u001b[43m \u001b[49m\u001b[38;5;241;43m*\u001b[39;49m\u001b[38;5;241;43m*\u001b[39;49m\u001b[43mkwargs\u001b[49m\u001b[43m)\u001b[49m\n\u001b[1;32m   2482\u001b[0m \u001b[38;5;66;03m# The code below prevents the output from being displayed\u001b[39;00m\n\u001b[1;32m   2483\u001b[0m \u001b[38;5;66;03m# when using magics with decorator @output_can_be_silenced\u001b[39;00m\n\u001b[1;32m   2484\u001b[0m \u001b[38;5;66;03m# when the last Python token in the expression is a ';'.\u001b[39;00m\n\u001b[1;32m   2485\u001b[0m \u001b[38;5;28;01mif\u001b[39;00m \u001b[38;5;28mgetattr\u001b[39m(fn, magic\u001b[38;5;241m.\u001b[39mMAGIC_OUTPUT_CAN_BE_SILENCED, \u001b[38;5;28;01mFalse\u001b[39;00m):\n",
      "File \u001b[0;32m~/miniconda3/envs/infosec_bootcamp/lib/python3.12/site-packages/IPython/core/magics/extension.py:33\u001b[0m, in \u001b[0;36mExtensionMagics.load_ext\u001b[0;34m(self, module_str)\u001b[0m\n\u001b[1;32m     31\u001b[0m \u001b[38;5;28;01mif\u001b[39;00m \u001b[38;5;129;01mnot\u001b[39;00m module_str:\n\u001b[1;32m     32\u001b[0m     \u001b[38;5;28;01mraise\u001b[39;00m UsageError(\u001b[38;5;124m'\u001b[39m\u001b[38;5;124mMissing module name.\u001b[39m\u001b[38;5;124m'\u001b[39m)\n\u001b[0;32m---> 33\u001b[0m res \u001b[38;5;241m=\u001b[39m \u001b[38;5;28;43mself\u001b[39;49m\u001b[38;5;241;43m.\u001b[39;49m\u001b[43mshell\u001b[49m\u001b[38;5;241;43m.\u001b[39;49m\u001b[43mextension_manager\u001b[49m\u001b[38;5;241;43m.\u001b[39;49m\u001b[43mload_extension\u001b[49m\u001b[43m(\u001b[49m\u001b[43mmodule_str\u001b[49m\u001b[43m)\u001b[49m\n\u001b[1;32m     35\u001b[0m \u001b[38;5;28;01mif\u001b[39;00m res \u001b[38;5;241m==\u001b[39m \u001b[38;5;124m'\u001b[39m\u001b[38;5;124malready loaded\u001b[39m\u001b[38;5;124m'\u001b[39m:\n\u001b[1;32m     36\u001b[0m     \u001b[38;5;28mprint\u001b[39m(\u001b[38;5;124m\"\u001b[39m\u001b[38;5;124mThe \u001b[39m\u001b[38;5;132;01m%s\u001b[39;00m\u001b[38;5;124m extension is already loaded. To reload it, use:\u001b[39m\u001b[38;5;124m\"\u001b[39m \u001b[38;5;241m%\u001b[39m module_str)\n",
      "File \u001b[0;32m~/miniconda3/envs/infosec_bootcamp/lib/python3.12/site-packages/IPython/core/extensions.py:62\u001b[0m, in \u001b[0;36mExtensionManager.load_extension\u001b[0;34m(self, module_str)\u001b[0m\n\u001b[1;32m     55\u001b[0m \u001b[38;5;250m\u001b[39m\u001b[38;5;124;03m\"\"\"Load an IPython extension by its module name.\u001b[39;00m\n\u001b[1;32m     56\u001b[0m \n\u001b[1;32m     57\u001b[0m \u001b[38;5;124;03mReturns the string \"already loaded\" if the extension is already loaded,\u001b[39;00m\n\u001b[1;32m     58\u001b[0m \u001b[38;5;124;03m\"no load function\" if the module doesn't have a load_ipython_extension\u001b[39;00m\n\u001b[1;32m     59\u001b[0m \u001b[38;5;124;03mfunction, or None if it succeeded.\u001b[39;00m\n\u001b[1;32m     60\u001b[0m \u001b[38;5;124;03m\"\"\"\u001b[39;00m\n\u001b[1;32m     61\u001b[0m \u001b[38;5;28;01mtry\u001b[39;00m:\n\u001b[0;32m---> 62\u001b[0m     \u001b[38;5;28;01mreturn\u001b[39;00m \u001b[38;5;28;43mself\u001b[39;49m\u001b[38;5;241;43m.\u001b[39;49m\u001b[43m_load_extension\u001b[49m\u001b[43m(\u001b[49m\u001b[43mmodule_str\u001b[49m\u001b[43m)\u001b[49m\n\u001b[1;32m     63\u001b[0m \u001b[38;5;28;01mexcept\u001b[39;00m \u001b[38;5;167;01mModuleNotFoundError\u001b[39;00m:\n\u001b[1;32m     64\u001b[0m     \u001b[38;5;28;01mif\u001b[39;00m module_str \u001b[38;5;129;01min\u001b[39;00m BUILTINS_EXTS:\n",
      "File \u001b[0;32m~/miniconda3/envs/infosec_bootcamp/lib/python3.12/site-packages/IPython/core/extensions.py:77\u001b[0m, in \u001b[0;36mExtensionManager._load_extension\u001b[0;34m(self, module_str)\u001b[0m\n\u001b[1;32m     75\u001b[0m \u001b[38;5;28;01mwith\u001b[39;00m \u001b[38;5;28mself\u001b[39m\u001b[38;5;241m.\u001b[39mshell\u001b[38;5;241m.\u001b[39mbuiltin_trap:\n\u001b[1;32m     76\u001b[0m     \u001b[38;5;28;01mif\u001b[39;00m module_str \u001b[38;5;129;01mnot\u001b[39;00m \u001b[38;5;129;01min\u001b[39;00m sys\u001b[38;5;241m.\u001b[39mmodules:\n\u001b[0;32m---> 77\u001b[0m         mod \u001b[38;5;241m=\u001b[39m \u001b[43mimport_module\u001b[49m\u001b[43m(\u001b[49m\u001b[43mmodule_str\u001b[49m\u001b[43m)\u001b[49m\n\u001b[1;32m     78\u001b[0m     mod \u001b[38;5;241m=\u001b[39m sys\u001b[38;5;241m.\u001b[39mmodules[module_str]\n\u001b[1;32m     79\u001b[0m     \u001b[38;5;28;01mif\u001b[39;00m \u001b[38;5;28mself\u001b[39m\u001b[38;5;241m.\u001b[39m_call_load_ipython_extension(mod):\n",
      "File \u001b[0;32m~/miniconda3/envs/infosec_bootcamp/lib/python3.12/importlib/__init__.py:90\u001b[0m, in \u001b[0;36mimport_module\u001b[0;34m(name, package)\u001b[0m\n\u001b[1;32m     88\u001b[0m             \u001b[38;5;28;01mbreak\u001b[39;00m\n\u001b[1;32m     89\u001b[0m         level \u001b[38;5;241m+\u001b[39m\u001b[38;5;241m=\u001b[39m \u001b[38;5;241m1\u001b[39m\n\u001b[0;32m---> 90\u001b[0m \u001b[38;5;28;01mreturn\u001b[39;00m \u001b[43m_bootstrap\u001b[49m\u001b[38;5;241;43m.\u001b[39;49m\u001b[43m_gcd_import\u001b[49m\u001b[43m(\u001b[49m\u001b[43mname\u001b[49m\u001b[43m[\u001b[49m\u001b[43mlevel\u001b[49m\u001b[43m:\u001b[49m\u001b[43m]\u001b[49m\u001b[43m,\u001b[49m\u001b[43m \u001b[49m\u001b[43mpackage\u001b[49m\u001b[43m,\u001b[49m\u001b[43m \u001b[49m\u001b[43mlevel\u001b[49m\u001b[43m)\u001b[49m\n",
      "File \u001b[0;32m<frozen importlib._bootstrap>:1387\u001b[0m, in \u001b[0;36m_gcd_import\u001b[0;34m(name, package, level)\u001b[0m\n",
      "File \u001b[0;32m<frozen importlib._bootstrap>:1360\u001b[0m, in \u001b[0;36m_find_and_load\u001b[0;34m(name, import_)\u001b[0m\n",
      "File \u001b[0;32m<frozen importlib._bootstrap>:1324\u001b[0m, in \u001b[0;36m_find_and_load_unlocked\u001b[0;34m(name, import_)\u001b[0m\n",
      "\u001b[0;31mModuleNotFoundError\u001b[0m: No module named 'ipyext'"
     ]
    }
   ],
   "source": [
    "from scapy.all import Ether, ARP, IP, EAPOL, Raw, srp1, Ether\n",
    "import threading\n",
    "import time\n",
    "from dataclasses import dataclass\n",
    "\n",
    "%load_ext ipyext"
   ]
  },
  {
   "cell_type": "markdown",
   "metadata": {},
   "source": [
    "# Virtual switch\n",
    "\n",
    "Your code will receive ethernet \"frames\" -- sequences of bytes representing packets received by a network interface. Your task is to implement a virtual switch that will forward these frames along but first it will tra"
   ]
  },
  {
   "cell_type": "code",
   "execution_count": null,
   "metadata": {},
   "outputs": [],
   "source": [
    "# MAC table: a dictionary that maps MAC addresses to port numbers\n",
    "self.mac_table: dict[str, int] = {}\n",
    "# ARP table: a dictionary that maps IP addresses to MAC addresses\n",
    "self.arp_table: dict[str, str] = {}\n",
    "# A set of all ports that have been authenticated\n",
    "self.authenticated_ports = set()"
   ]
  },
  {
   "cell_type": "markdown",
   "metadata": {},
   "source": [
    "# Representing ether frames\n",
    "\n",
    "Make a class called `Frame` that will represent an ethernet frame. It should have the following attributes:\n",
    "\n",
    "- `src` - a string representing the source MAC address\n",
    "- `dst` - a string representing the destination MAC address\n",
    "- `data` - a list of integers representing the data in the frame"
   ]
  },
  {
   "cell_type": "code",
   "execution_count": null,
   "metadata": {},
   "outputs": [],
   "source": [
    "@dataclass\n",
    "class Frame:\n",
    "    pass"
   ]
  },
  {
   "cell_type": "markdown",
   "metadata": {},
   "source": [
    "# Construct an ether frame from raw bytes\n",
    "\n",
    "%%"
   ]
  },
  {
   "cell_type": "code",
   "execution_count": null,
   "metadata": {},
   "outputs": [],
   "source": []
  },
  {
   "cell_type": "code",
   "execution_count": null,
   "metadata": {},
   "outputs": [],
   "source": [
    "def simulate_traffic(switch):\n",
    "    # Simulate incoming frames\n",
    "    for _ in range(3):\n",
    "        # Simulate an Ethernet frame\n",
    "        eth_frame = Ether(src=\"00:00:00:00:00:01\", dst=\"00:00:00:00:00:02\") / IP(src=\"192.168.1.1\", dst=\"192.168.1.2\") / Raw(load=\"Hello, Virtual Switch!\")\n",
    "        src_port = 1\n",
    "        switch.forward_frame(bytes(eth_frame), src_port)\n",
    "        \n",
    "        # Simulate an ARP request\n",
    "        arp_request = Ether(src=\"00:00:00:00:00:01\", dst=\"ff:ff:ff:ff:ff:ff\") / ARP(hwsrc=\"00:00:00:00:00:01\", psrc=\"192.168.1.1\", hwdst=\"00:00:00:00:00:00\", pdst=\"192.168.1.2\")\n",
    "        switch.handle_arp(arp_request)\n",
    "        \n",
    "        # Simulate 802.1X authentication\n",
    "        eapol_start = Ether(src=\"00:00:00:00:00:03\", dst=\"01:80:c2:00:00:03\", type=ETH_P_PAE) / EAPOL(type=1)\n",
    "        switch.handle_eapol(eapol_start, 3)\n",
    "        \n",
    "        time.sleep(5)  # Wait for 5 seconds before sending the next frame"
   ]
  },
  {
   "cell_type": "code",
   "execution_count": null,
   "metadata": {},
   "outputs": [],
   "source": [
    "Ether()"
   ]
  },
  {
   "cell_type": "code",
   "execution_count": null,
   "metadata": {},
   "outputs": [],
   "source": [
    "# define a `learn_mac` method that updates the MAC table\n",
    "    def learn_mac(self, src_mac: str, in_port: int):\n",
    "        self.mac_table[src_mac] = in_port`"
   ]
  },
  {
   "cell_type": "code",
   "execution_count": 5,
   "metadata": {},
   "outputs": [
    {
     "name": "stderr",
     "output_type": "stream",
     "text": [
      "Exception in thread Thread-14 (simulate_traffic):\n",
      "Traceback (most recent call last):\n",
      "  File \"/Users/syd/miniconda3/envs/infosec_bootcamp/lib/python3.12/threading.py\", line 1073, in _bootstrap_inner\n",
      "    self.run()\n",
      "  File \"/Users/syd/miniconda3/envs/infosec_bootcamp/lib/python3.12/site-packages/ipykernel/ipkernel.py\", line 766, in run_closure\n",
      "    _threading_Thread_run(self)\n",
      "  File \"/Users/syd/miniconda3/envs/infosec_bootcamp/lib/python3.12/threading.py\", line 1010, in run\n",
      "    self._target(*self._args, **self._kwargs)\n",
      "  File \"/var/folders/dn/6fp4_0814tq2hvvsjcr31mcr0000gn/T/ipykernel_57309/712306832.py\", line 94, in simulate_traffic\n",
      "NameError: name 'ETH_P_PAE' is not defined\n"
     ]
    },
    {
     "name": "stdout",
     "output_type": "stream",
     "text": [
      "Stopping the virtual switch...\n"
     ]
    }
   ],
   "source": [
    "class VirtualSwitch:\n",
    "    def __init__(self):\n",
    "        self.mac_table = {}\n",
    "        self.arp_table = {}\n",
    "        self.authenticated_ports = set()\n",
    "\n",
    "    def learn_mac(self, mac, port):\n",
    "        self.mac_table[mac] = port\n",
    "\n",
    "    def forward_frame(self, frame, src_port):\n",
    "        ether = Ether(frame)\n",
    "        \n",
    "        self.learn_mac(ether.src, src_port)\n",
    "        \n",
    "        if ether.dst in self.mac_table:\n",
    "            dst_port = self.mac_table[ether.dst]\n",
    "            if dst_port != src_port:\n",
    "                self.send_frame(frame, dst_port)\n",
    "        else:\n",
    "            self.flood_frame(frame, src_port)\n",
    "\n",
    "    def flood_frame(self, frame, src_port):\n",
    "        for port in self.authenticated_ports:\n",
    "            if port != src_port:\n",
    "                self.send_frame(frame, port)\n",
    "\n",
    "    def send_frame(self, frame, port):\n",
    "        # In a real implementation, this would send the frame to the physical port\n",
    "        print(f\"Sending frame to port {port}: {Ether(frame).summary()}\")\n",
    "\n",
    "    def handle_arp(self, frame):\n",
    "        arp = frame[ARP]\n",
    "        \n",
    "        if arp.op == 1:  # ARP Request\n",
    "            self.arp_table[arp.psrc] = arp.hwsrc\n",
    "            \n",
    "            if arp.pdst in self.arp_table:\n",
    "                self.send_arp_reply(arp.hwsrc, arp.psrc, self.arp_table[arp.pdst], arp.pdst)\n",
    "\n",
    "    def send_arp_reply(self, target_mac, target_ip, sender_mac, sender_ip):\n",
    "        arp_reply = Ether(dst=target_mac, src=sender_mac) / ARP(\n",
    "            op=2,\n",
    "            hwsrc=sender_mac,\n",
    "            psrc=sender_ip,\n",
    "            hwdst=target_mac,\n",
    "            pdst=target_ip\n",
    "        )\n",
    "        \n",
    "        self.forward_frame(bytes(arp_reply), self.mac_table[sender_mac])\n",
    "\n",
    "    def authenticate_port(self, port, username, password):\n",
    "        # Simplified 802.1X authentication\n",
    "        if username == \"user\" and password == \"password\":\n",
    "            self.authenticated_ports.add(port)\n",
    "            return True\n",
    "        return False\n",
    "\n",
    "    def handle_eapol(self, frame, port):\n",
    "        eapol = frame[EAPOL]\n",
    "        \n",
    "        # Simplified 802.1X authentication process\n",
    "        if eapol.type == 0x01:  # EAP Start\n",
    "            # Send EAP Request Identity\n",
    "            eap_request = Ether(src=frame[Ether].dst, dst=frame[Ether].src) / EAPOL() / Raw(load=b'\\x01\\x00\\x00\\x05\\x01')\n",
    "            self.send_frame(bytes(eap_request), port)\n",
    "        elif eapol.type == 0x00 and len(eapol.payload) > 0:  # EAP packet\n",
    "            eap = eapol.payload\n",
    "            if eap.code == 2:  # Response\n",
    "                if eap.type == 1:  # Identity\n",
    "                    # Send EAP Request MD5 Challenge (simplified)\n",
    "                    eap_md5_challenge = Ether(src=frame[Ether].dst, dst=frame[Ether].src) / EAPOL() / Raw(load=b'\\x01\\x00\\x00\\x16\\x02\\x02\\x00\\x16\\x04\\x10' + b'\\x00' * 16)\n",
    "                    self.send_frame(bytes(eap_md5_challenge), port)\n",
    "                elif eap.type == 4:  # MD5 Challenge\n",
    "                    # In a real implementation, verify the MD5 challenge response\n",
    "                    # For this example, we'll just accept it\n",
    "                    eap_success = Ether(src=frame[Ether].dst, dst=frame[Ether].src) / EAPOL() / Raw(load=b'\\x01\\x00\\x00\\x04\\x03')\n",
    "                    self.send_frame(bytes(eap_success), port)\n",
    "                    self.authenticated_ports.add(port)\n",
    "                    print(f\"Port {port} authenticated\")\n",
    "\n",
    "\n",
    "\n",
    "if __name__ == \"__main__\":\n",
    "    switch = VirtualSwitch()\n",
    "    \n",
    "    # Start simulating traffic\n",
    "    traffic_thread = threading.Thread(target=simulate_traffic, args=(switch,))\n",
    "    traffic_thread.start()\n",
    "    \n",
    "    # Keep the main thread running\n",
    "    try:\n",
    "        while True:\n",
    "            time.sleep(1)\n",
    "    except KeyboardInterrupt:\n",
    "        print(\"Stopping the virtual switch...\")"
   ]
  },
  {
   "cell_type": "code",
   "execution_count": null,
   "metadata": {},
   "outputs": [],
   "source": []
  }
 ],
 "metadata": {
  "kernelspec": {
   "display_name": "Python 3",
   "language": "python",
   "name": "python3"
  },
  "language_info": {
   "codemirror_mode": {
    "name": "ipython",
    "version": 3
   },
   "file_extension": ".py",
   "mimetype": "text/x-python",
   "name": "python",
   "nbconvert_exporter": "python",
   "pygments_lexer": "ipython3",
   "version": "3.12.4"
  }
 },
 "nbformat": 4,
 "nbformat_minor": 2
}
