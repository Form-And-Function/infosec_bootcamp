{
 "cells": [
  {
   "cell_type": "markdown",
   "metadata": {},
   "source": [
    "# Digital signatures\n",
    "\n",
    "You are trying to send a message to your friend Alice, "
   ]
  },
  {
   "cell_type": "code",
   "execution_count": 7,
   "metadata": {},
   "outputs": [
    {
     "ename": "ImportError",
     "evalue": "attempted relative import with no known parent package",
     "output_type": "error",
     "traceback": [
      "\u001b[0;31m---------------------------------------------------------------------------\u001b[0m",
      "\u001b[0;31mImportError\u001b[0m                               Traceback (most recent call last)",
      "Cell \u001b[0;32mIn[7], line 2\u001b[0m\n\u001b[1;32m      1\u001b[0m \u001b[38;5;28;01mimport\u001b[39;00m \u001b[38;5;21;01mimport_ipynb\u001b[39;00m\n\u001b[0;32m----> 2\u001b[0m \u001b[38;5;28;01mfrom\u001b[39;00m \u001b[38;5;21;01m.\u001b[39;00m\u001b[38;5;21;01m.\u001b[39;00m\u001b[38;5;21;01mw1_d1\u001b[39;00m \u001b[38;5;28;01mimport\u001b[39;00m main\n",
      "\u001b[0;31mImportError\u001b[0m: attempted relative import with no known parent package"
     ]
    }
   ],
   "source": [
    "import import_ipynb\n",
    "# todo:: make this magically work\n",
    "from prev import rsa_encode, rsa_decode, generate_keypair"
   ]
  },
  {
   "cell_type": "code",
   "execution_count": null,
   "metadata": {},
   "outputs": [],
   "source": [
    "# Digital Signatures using RSA and ECDSA\n",
    "\n",
    "import hashlib\n",
    "from cryptography.hazmat.primitives import hashes\n",
    "from cryptography.hazmat.primitives.asymmetric import rsa, padding, ec\n",
    "from cryptography.hazmat.primitives.asymmetric.utils import encode_dss_signature, decode_dss_signature\n",
    "from cryptography.exceptions import InvalidSignature\n",
    "\n",
    "# RSA Implementation\n",
    "\n",
    "def generate_rsa_keys():\n",
    "    private_key = rsa.generate_private_key(\n",
    "        public_exponent=65537,\n",
    "        key_size=2048\n",
    "    )\n",
    "    public_key = private_key.public_key()\n",
    "    return private_key, public_key\n",
    "\n",
    "def sign_message_rsa(message, private_key):\n",
    "    signature = private_key.sign(\n",
    "        message.encode(),\n",
    "        padding.PSS(\n",
    "            mgf=padding.MGF1(hashes.SHA256()),\n",
    "            salt_length=padding.PSS.MAX_LENGTH\n",
    "        ),\n",
    "        hashes.SHA256()\n",
    "    )\n",
    "    return signature\n",
    "\n",
    "def verify_signature_rsa(message, signature, public_key):\n",
    "    try:\n",
    "        public_key.verify(\n",
    "            signature,\n",
    "            message.encode(),\n",
    "            padding.PSS(\n",
    "                mgf=padding.MGF1(hashes.SHA256()),\n",
    "                salt_length=padding.PSS.MAX_LENGTH\n",
    "            ),\n",
    "            hashes.SHA256()\n",
    "        )\n",
    "        return True\n",
    "    except InvalidSignature:\n",
    "        return False\n",
    "\n",
    "# ECDSA Implementation\n",
    "\n",
    "def generate_ecdsa_keys():\n",
    "    private_key = ec.generate_private_key(ec.SECP256R1())\n",
    "    public_key = private_key.public_key()\n",
    "    return private_key, public_key\n",
    "\n",
    "def sign_message_ecdsa(message, private_key):\n",
    "    signature = private_key.sign(\n",
    "        message.encode(),\n",
    "        ec.ECDSA(hashes.SHA256())\n",
    "    )\n",
    "    return signature\n",
    "\n",
    "def verify_signature_ecdsa(message, signature, public_key):\n",
    "    try:\n",
    "        public_key.verify(\n",
    "            signature,\n",
    "            message.encode(),\n",
    "            ec.ECDSA(hashes.SHA256())\n",
    "        )\n",
    "        return True\n",
    "    except InvalidSignature:\n",
    "        return False\n",
    "\n",
    "# Example usage\n",
    "\n",
    "# RSA\n",
    "print(\"RSA Digital Signature\")\n",
    "rsa_private_key, rsa_public_key = generate_rsa_keys()\n",
    "message = \"Hello, World!\"\n",
    "rsa_signature = sign_message_rsa(message, rsa_private_key)\n",
    "print(f\"Message: {message}\")\n",
    "print(f\"RSA Signature: {rsa_signature.hex()}\")\n",
    "print(f\"RSA Verification: {verify_signature_rsa(message, rsa_signature, rsa_public_key)}\")\n",
    "\n",
    "print(\"\\nECDSA Digital Signature\")\n",
    "ecdsa_private_key, ecdsa_public_key = generate_ecdsa_keys()\n",
    "ecdsa_signature = sign_message_ecdsa(message, ecdsa_private_key)\n",
    "print(f\"Message: {message}\")\n",
    "print(f\"ECDSA Signature: {ecdsa_signature.hex()}\")\n",
    "print(f\"ECDSA Verification: {verify_signature_ecdsa(message, ecdsa_signature, ecdsa_public_key)}\")\n",
    "\n",
    "# Test with tampered message\n",
    "tampered_message = \"Hello, World! (tampered)\"\n",
    "print(\"\\nTesting with tampered message:\")\n",
    "print(f\"RSA Verification (tampered): {verify_signature_rsa(tampered_message, rsa_signature, rsa_public_key)}\")\n",
    "print(f\"ECDSA Verification (tampered): {verify_signature_ecdsa(tampered_message, ecdsa_signature, ecdsa_public_key)}\")"
   ]
  }
 ],
 "metadata": {
  "kernelspec": {
   "display_name": "Python 3",
   "language": "python",
   "name": "python3"
  },
  "language_info": {
   "codemirror_mode": {
    "name": "ipython",
    "version": 3
   },
   "file_extension": ".py",
   "mimetype": "text/x-python",
   "name": "python",
   "nbconvert_exporter": "python",
   "pygments_lexer": "ipython3",
   "version": "3.12.4"
  }
 },
 "nbformat": 4,
 "nbformat_minor": 2
}
