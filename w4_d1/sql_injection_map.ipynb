{
 "cells": [
  {
   "cell_type": "code",
   "execution_count": null,
   "metadata": {},
   "outputs": [],
   "source": [
    "import requests\n",
    "import time"
   ]
  },
  {
   "cell_type": "markdown",
   "metadata": {},
   "source": [
    "## Challenge\n",
    "\n",
    "We're hosting a database at `TODO:PORT`. The database has a table called `users` with the following schema:\n",
    "\n",
    "```\n",
    "CREATE TABLE users (\n",
    "    id SERIAL PRIMARY KEY,\n",
    "    username VARCHAR(255) NOT NULL,\n",
    "    password VARCHAR(255) NOT NULL\n",
    ");\n",
    "```\n",
    "\n",
    "When you load the website, you see a login form. You can't see the source code, but you can see the network requests. The login form sends a POST request to `/login` with the following JSON payload:\n",
    "\n",
    "```\n",
    "{\n",
    "    \"username\": \"admin\",\n",
    "    \"password\": \"password\"\n",
    "}\n",
    "```\n",
    "\n",
    "The server responds with a JSON object with the following structure:\n",
    "\n",
    "```\n",
    "{\n",
    "    \"success\": true,\n",
    "    \"message\": \"Successfully logged in!\"\n",
    "}\n",
    "```"
   ]
  },
  {
   "cell_type": "code",
   "execution_count": null,
   "metadata": {},
   "outputs": [],
   "source": []
  },
  {
   "cell_type": "markdown",
   "metadata": {},
   "source": [
    "## Union-based SQL Injection\n",
    "\n",
    "A union-based SQL injection is a type of SQL injection that relies on the UNION SQL operator to combine the results of two or more SELECT statements into a single result which is then returned as part of the HTTP response."
   ]
  },
  {
   "cell_type": "code",
   "execution_count": null,
   "metadata": {},
   "outputs": [],
   "source": [
    "def union_based_injection(url: str, param: str, payload: str):\n",
    "    pass"
   ]
  },
  {
   "cell_type": "code",
   "execution_count": null,
   "metadata": {},
   "outputs": [],
   "source": [
    "class SimplifiedSQLMap:\n",
    "    def __init__(self, url, param):\n",
    "        self.url = url\n",
    "        self.param = param\n",
    "\n",
    "    def union_based_injection(self, payload):\n",
    "        target_url = self.url + \"?\" + self.param + \"=\" + payload\n",
    "        response = requests.get(target_url)\n",
    "        return response.text\n",
    "\n",
    "    def error_based_injection(self, payload):\n",
    "        target_url = self.url + \"?\" + self.param + \"=\" + payload\n",
    "        response = requests.get(target_url)\n",
    "        return response.text\n",
    "\n",
    "    def time_based_injection(self, payload):\n",
    "        start_time = time.time()\n",
    "        target_url = self.url + \"?\" + self.param + \"=\" + payload\n",
    "        requests.get(target_url)\n",
    "        end_time = time.time()\n",
    "        return end_time - start_time\n",
    "\n",
    "def main():\n",
    "    url = input(\"Enter the target URL: \")\n",
    "    param = input(\"Enter the parameter to inject: \")\n",
    "\n",
    "    tool = SimplifiedSQLMap(url, param)\n",
    "\n",
    "    while True:\n",
    "        print(\"\\nChoose the type of SQL injection:\")\n",
    "        print(\"1. UNION-based SQL Injection\")\n",
    "        print(\"2. Error-based SQL Injection\")\n",
    "        print(\"3. Time-based (Blind) SQL Injection\")\n",
    "        print(\"4. Exit\")\n",
    "        choice = input(\"Enter your choice: \")\n",
    "\n",
    "        if choice == \"1\":\n",
    "            payload = input(\"Enter the UNION-based payload: \")\n",
    "            result = tool.union_based_injection(payload)\n",
    "            print(\"Response:\\n\", result)\n",
    "\n",
    "        elif choice == \"2\":\n",
    "            payload = input(\"Enter the error-based payload: \")\n",
    "            result = tool.error_based_injection(payload)\n",
    "            print(\"Response:\\n\", result)\n",
    "\n",
    "        elif choice == \"3\":\n",
    "            payload = input(\"Enter the time-based (blind) payload: \")\n",
    "            time_taken = tool.time_based_injection(payload)\n",
    "            print(\"Time taken for response: {:.2f} seconds\".format(time_taken))\n",
    "\n",
    "        elif choice == \"4\":\n",
    "            print(\"Exiting the tool.\")\n",
    "            break\n",
    "\n",
    "        else:\n",
    "            print(\"Invalid choice. Please try again.\")\n",
    "\n",
    "if __name__ == \"__main__\":\n",
    "    main()\n"
   ]
  }
 ],
 "metadata": {
  "language_info": {
   "name": "python"
  }
 },
 "nbformat": 4,
 "nbformat_minor": 2
}
